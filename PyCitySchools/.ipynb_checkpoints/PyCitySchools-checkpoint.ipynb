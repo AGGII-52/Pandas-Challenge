{
 "cells": [
  {
   "cell_type": "code",
   "execution_count": 1,
   "metadata": {},
   "outputs": [],
   "source": [
    "# Import dependencies and Setup\n",
    "import pandas as pd\n",
    "import os"
   ]
  },
  {
   "cell_type": "code",
   "execution_count": 2,
   "metadata": {},
   "outputs": [],
   "source": [
    "#Save path to schools data\n",
    "Schools = os.path.join(\"Resources\", \"schools_complete.csv\")"
   ]
  },
  {
   "cell_type": "code",
   "execution_count": 3,
   "metadata": {},
   "outputs": [
    {
     "data": {
      "text/html": [
       "<div>\n",
       "<style scoped>\n",
       "    .dataframe tbody tr th:only-of-type {\n",
       "        vertical-align: middle;\n",
       "    }\n",
       "\n",
       "    .dataframe tbody tr th {\n",
       "        vertical-align: top;\n",
       "    }\n",
       "\n",
       "    .dataframe thead th {\n",
       "        text-align: right;\n",
       "    }\n",
       "</style>\n",
       "<table border=\"1\" class=\"dataframe\">\n",
       "  <thead>\n",
       "    <tr style=\"text-align: right;\">\n",
       "      <th></th>\n",
       "      <th>School ID</th>\n",
       "      <th>school_name</th>\n",
       "      <th>type</th>\n",
       "      <th>size</th>\n",
       "      <th>budget</th>\n",
       "    </tr>\n",
       "  </thead>\n",
       "  <tbody>\n",
       "    <tr>\n",
       "      <th>0</th>\n",
       "      <td>0</td>\n",
       "      <td>Huang High School</td>\n",
       "      <td>District</td>\n",
       "      <td>2917</td>\n",
       "      <td>1910635</td>\n",
       "    </tr>\n",
       "    <tr>\n",
       "      <th>1</th>\n",
       "      <td>1</td>\n",
       "      <td>Figueroa High School</td>\n",
       "      <td>District</td>\n",
       "      <td>2949</td>\n",
       "      <td>1884411</td>\n",
       "    </tr>\n",
       "    <tr>\n",
       "      <th>2</th>\n",
       "      <td>2</td>\n",
       "      <td>Shelton High School</td>\n",
       "      <td>Charter</td>\n",
       "      <td>1761</td>\n",
       "      <td>1056600</td>\n",
       "    </tr>\n",
       "    <tr>\n",
       "      <th>3</th>\n",
       "      <td>3</td>\n",
       "      <td>Hernandez High School</td>\n",
       "      <td>District</td>\n",
       "      <td>4635</td>\n",
       "      <td>3022020</td>\n",
       "    </tr>\n",
       "    <tr>\n",
       "      <th>4</th>\n",
       "      <td>4</td>\n",
       "      <td>Griffin High School</td>\n",
       "      <td>Charter</td>\n",
       "      <td>1468</td>\n",
       "      <td>917500</td>\n",
       "    </tr>\n",
       "  </tbody>\n",
       "</table>\n",
       "</div>"
      ],
      "text/plain": [
       "   School ID            school_name      type  size   budget\n",
       "0          0      Huang High School  District  2917  1910635\n",
       "1          1   Figueroa High School  District  2949  1884411\n",
       "2          2    Shelton High School   Charter  1761  1056600\n",
       "3          3  Hernandez High School  District  4635  3022020\n",
       "4          4    Griffin High School   Charter  1468   917500"
      ]
     },
     "execution_count": 3,
     "metadata": {},
     "output_type": "execute_result"
    }
   ],
   "source": [
    "# Read School Data File and store into Pandas DataFrames\n",
    "df1 = pd.read_csv(Schools)\n",
    "df1.head()"
   ]
  },
  {
   "cell_type": "code",
   "execution_count": 4,
   "metadata": {},
   "outputs": [],
   "source": [
    "#Save path to students data\n",
    "Students = os.path.join(\"Resources\", \"students_complete.csv\")"
   ]
  },
  {
   "cell_type": "code",
   "execution_count": 5,
   "metadata": {
    "scrolled": true
   },
   "outputs": [
    {
     "data": {
      "text/html": [
       "<div>\n",
       "<style scoped>\n",
       "    .dataframe tbody tr th:only-of-type {\n",
       "        vertical-align: middle;\n",
       "    }\n",
       "\n",
       "    .dataframe tbody tr th {\n",
       "        vertical-align: top;\n",
       "    }\n",
       "\n",
       "    .dataframe thead th {\n",
       "        text-align: right;\n",
       "    }\n",
       "</style>\n",
       "<table border=\"1\" class=\"dataframe\">\n",
       "  <thead>\n",
       "    <tr style=\"text-align: right;\">\n",
       "      <th></th>\n",
       "      <th>Student ID</th>\n",
       "      <th>student_name</th>\n",
       "      <th>gender</th>\n",
       "      <th>grade</th>\n",
       "      <th>school_name</th>\n",
       "      <th>reading_score</th>\n",
       "      <th>math_score</th>\n",
       "    </tr>\n",
       "  </thead>\n",
       "  <tbody>\n",
       "    <tr>\n",
       "      <th>0</th>\n",
       "      <td>0</td>\n",
       "      <td>Paul Bradley</td>\n",
       "      <td>M</td>\n",
       "      <td>9th</td>\n",
       "      <td>Huang High School</td>\n",
       "      <td>66</td>\n",
       "      <td>79</td>\n",
       "    </tr>\n",
       "    <tr>\n",
       "      <th>1</th>\n",
       "      <td>1</td>\n",
       "      <td>Victor Smith</td>\n",
       "      <td>M</td>\n",
       "      <td>12th</td>\n",
       "      <td>Huang High School</td>\n",
       "      <td>94</td>\n",
       "      <td>61</td>\n",
       "    </tr>\n",
       "    <tr>\n",
       "      <th>2</th>\n",
       "      <td>2</td>\n",
       "      <td>Kevin Rodriguez</td>\n",
       "      <td>M</td>\n",
       "      <td>12th</td>\n",
       "      <td>Huang High School</td>\n",
       "      <td>90</td>\n",
       "      <td>60</td>\n",
       "    </tr>\n",
       "    <tr>\n",
       "      <th>3</th>\n",
       "      <td>3</td>\n",
       "      <td>Dr. Richard Scott</td>\n",
       "      <td>M</td>\n",
       "      <td>12th</td>\n",
       "      <td>Huang High School</td>\n",
       "      <td>67</td>\n",
       "      <td>58</td>\n",
       "    </tr>\n",
       "    <tr>\n",
       "      <th>4</th>\n",
       "      <td>4</td>\n",
       "      <td>Bonnie Ray</td>\n",
       "      <td>F</td>\n",
       "      <td>9th</td>\n",
       "      <td>Huang High School</td>\n",
       "      <td>97</td>\n",
       "      <td>84</td>\n",
       "    </tr>\n",
       "  </tbody>\n",
       "</table>\n",
       "</div>"
      ],
      "text/plain": [
       "   Student ID       student_name gender grade        school_name  \\\n",
       "0           0       Paul Bradley      M   9th  Huang High School   \n",
       "1           1       Victor Smith      M  12th  Huang High School   \n",
       "2           2    Kevin Rodriguez      M  12th  Huang High School   \n",
       "3           3  Dr. Richard Scott      M  12th  Huang High School   \n",
       "4           4         Bonnie Ray      F   9th  Huang High School   \n",
       "\n",
       "   reading_score  math_score  \n",
       "0             66          79  \n",
       "1             94          61  \n",
       "2             90          60  \n",
       "3             67          58  \n",
       "4             97          84  "
      ]
     },
     "execution_count": 5,
     "metadata": {},
     "output_type": "execute_result"
    }
   ],
   "source": [
    "#Read Student Data File and store into Pandas DataFrames\n",
    "df2 = pd.read_csv(Students)\n",
    "df2.head()"
   ]
  },
  {
   "cell_type": "code",
   "execution_count": 6,
   "metadata": {},
   "outputs": [
    {
     "data": {
      "text/html": [
       "<div>\n",
       "<style scoped>\n",
       "    .dataframe tbody tr th:only-of-type {\n",
       "        vertical-align: middle;\n",
       "    }\n",
       "\n",
       "    .dataframe tbody tr th {\n",
       "        vertical-align: top;\n",
       "    }\n",
       "\n",
       "    .dataframe thead th {\n",
       "        text-align: right;\n",
       "    }\n",
       "</style>\n",
       "<table border=\"1\" class=\"dataframe\">\n",
       "  <thead>\n",
       "    <tr style=\"text-align: right;\">\n",
       "      <th></th>\n",
       "      <th>School ID</th>\n",
       "      <th>school_name</th>\n",
       "      <th>type</th>\n",
       "      <th>size</th>\n",
       "      <th>budget</th>\n",
       "      <th>Student ID</th>\n",
       "      <th>student_name</th>\n",
       "      <th>gender</th>\n",
       "      <th>grade</th>\n",
       "      <th>reading_score</th>\n",
       "      <th>math_score</th>\n",
       "    </tr>\n",
       "  </thead>\n",
       "  <tbody>\n",
       "    <tr>\n",
       "      <th>0</th>\n",
       "      <td>0</td>\n",
       "      <td>Huang High School</td>\n",
       "      <td>District</td>\n",
       "      <td>2917</td>\n",
       "      <td>1910635</td>\n",
       "      <td>0</td>\n",
       "      <td>Paul Bradley</td>\n",
       "      <td>M</td>\n",
       "      <td>9th</td>\n",
       "      <td>66</td>\n",
       "      <td>79</td>\n",
       "    </tr>\n",
       "    <tr>\n",
       "      <th>1</th>\n",
       "      <td>0</td>\n",
       "      <td>Huang High School</td>\n",
       "      <td>District</td>\n",
       "      <td>2917</td>\n",
       "      <td>1910635</td>\n",
       "      <td>1</td>\n",
       "      <td>Victor Smith</td>\n",
       "      <td>M</td>\n",
       "      <td>12th</td>\n",
       "      <td>94</td>\n",
       "      <td>61</td>\n",
       "    </tr>\n",
       "    <tr>\n",
       "      <th>2</th>\n",
       "      <td>0</td>\n",
       "      <td>Huang High School</td>\n",
       "      <td>District</td>\n",
       "      <td>2917</td>\n",
       "      <td>1910635</td>\n",
       "      <td>2</td>\n",
       "      <td>Kevin Rodriguez</td>\n",
       "      <td>M</td>\n",
       "      <td>12th</td>\n",
       "      <td>90</td>\n",
       "      <td>60</td>\n",
       "    </tr>\n",
       "    <tr>\n",
       "      <th>3</th>\n",
       "      <td>0</td>\n",
       "      <td>Huang High School</td>\n",
       "      <td>District</td>\n",
       "      <td>2917</td>\n",
       "      <td>1910635</td>\n",
       "      <td>3</td>\n",
       "      <td>Dr. Richard Scott</td>\n",
       "      <td>M</td>\n",
       "      <td>12th</td>\n",
       "      <td>67</td>\n",
       "      <td>58</td>\n",
       "    </tr>\n",
       "    <tr>\n",
       "      <th>4</th>\n",
       "      <td>0</td>\n",
       "      <td>Huang High School</td>\n",
       "      <td>District</td>\n",
       "      <td>2917</td>\n",
       "      <td>1910635</td>\n",
       "      <td>4</td>\n",
       "      <td>Bonnie Ray</td>\n",
       "      <td>F</td>\n",
       "      <td>9th</td>\n",
       "      <td>97</td>\n",
       "      <td>84</td>\n",
       "    </tr>\n",
       "  </tbody>\n",
       "</table>\n",
       "</div>"
      ],
      "text/plain": [
       "   School ID        school_name      type  size   budget  Student ID  \\\n",
       "0          0  Huang High School  District  2917  1910635           0   \n",
       "1          0  Huang High School  District  2917  1910635           1   \n",
       "2          0  Huang High School  District  2917  1910635           2   \n",
       "3          0  Huang High School  District  2917  1910635           3   \n",
       "4          0  Huang High School  District  2917  1910635           4   \n",
       "\n",
       "        student_name gender grade  reading_score  math_score  \n",
       "0       Paul Bradley      M   9th             66          79  \n",
       "1       Victor Smith      M  12th             94          61  \n",
       "2    Kevin Rodriguez      M  12th             90          60  \n",
       "3  Dr. Richard Scott      M  12th             67          58  \n",
       "4         Bonnie Ray      F   9th             97          84  "
      ]
     },
     "execution_count": 6,
     "metadata": {},
     "output_type": "execute_result"
    }
   ],
   "source": [
    "#Combine the data into a single dataset  \n",
    "PyCitySchool_df = pd.merge(df1, df2, how=\"left\", on= \"school_name\")\n",
    "PyCitySchool_df.head()"
   ]
  },
  {
   "cell_type": "markdown",
   "metadata": {},
   "source": [
    "## District Summary"
   ]
  },
  {
   "cell_type": "code",
   "execution_count": 7,
   "metadata": {},
   "outputs": [
    {
     "data": {
      "text/plain": [
       "15"
      ]
     },
     "execution_count": 7,
     "metadata": {},
     "output_type": "execute_result"
    }
   ],
   "source": [
    "#Calculate total number of schools\n",
    "Total_Schools = len(PyCitySchool_df[\"school_name\"].unique())\n",
    "Total_Schools"
   ]
  },
  {
   "cell_type": "code",
   "execution_count": 8,
   "metadata": {},
   "outputs": [
    {
     "data": {
      "text/plain": [
       "39170"
      ]
     },
     "execution_count": 8,
     "metadata": {},
     "output_type": "execute_result"
    }
   ],
   "source": [
    "#Calculate total number of students\n",
    "Total_Students = PyCitySchool_df.loc[:, (\"student_name\")].count()\n",
    "Total_Students"
   ]
  },
  {
   "cell_type": "code",
   "execution_count": 9,
   "metadata": {},
   "outputs": [
    {
     "data": {
      "text/plain": [
       "24649428"
      ]
     },
     "execution_count": 9,
     "metadata": {},
     "output_type": "execute_result"
    }
   ],
   "source": [
    "#Calculate total budget\n",
    "Total_Budget = (PyCitySchool_df[\"budget\"].unique()).sum()\n",
    "Total_Budget"
   ]
  },
  {
   "cell_type": "code",
   "execution_count": 10,
   "metadata": {},
   "outputs": [
    {
     "data": {
      "text/plain": [
       "78.98537145774827"
      ]
     },
     "execution_count": 10,
     "metadata": {},
     "output_type": "execute_result"
    }
   ],
   "source": [
    "#Calculate the average math score \n",
    "Avg_MathScore = PyCitySchool_df[\"math_score\"].mean()\n",
    "Avg_MathScore"
   ]
  },
  {
   "cell_type": "code",
   "execution_count": 11,
   "metadata": {},
   "outputs": [
    {
     "data": {
      "text/plain": [
       "81.87784018381414"
      ]
     },
     "execution_count": 11,
     "metadata": {},
     "output_type": "execute_result"
    }
   ],
   "source": [
    "#Calculate the average reading score \n",
    "Avg_ReadingScore = PyCitySchool_df[\"reading_score\"].mean()\n",
    "Avg_ReadingScore"
   ]
  },
  {
   "cell_type": "code",
   "execution_count": 12,
   "metadata": {},
   "outputs": [
    {
     "data": {
      "text/plain": [
       "74.9808526933878"
      ]
     },
     "execution_count": 12,
     "metadata": {},
     "output_type": "execute_result"
    }
   ],
   "source": [
    "#Calculate the percentage of students with a passing math score (70 or greater)\n",
    "PassingMath = PyCitySchool_df.loc[PyCitySchool_df[\"math_score\"] >= 70][\"student_name\"].count()\n",
    "Percent_PassingMath = PassingMath/Total_Students*100\n",
    "Percent_PassingMath"
   ]
  },
  {
   "cell_type": "code",
   "execution_count": 13,
   "metadata": {},
   "outputs": [
    {
     "data": {
      "text/plain": [
       "85.80546336482001"
      ]
     },
     "execution_count": 13,
     "metadata": {},
     "output_type": "execute_result"
    }
   ],
   "source": [
    "#Calculate the percentage of students with a passing reading score (70 or greater)\n",
    "PassingReading = PyCitySchool_df[PyCitySchool_df[\"reading_score\"] >= 70][\"student_name\"].count()\n",
    "Percent_PassingReading = PassingReading/Total_Students*100\n",
    "Percent_PassingReading"
   ]
  },
  {
   "cell_type": "code",
   "execution_count": 14,
   "metadata": {},
   "outputs": [
    {
     "data": {
      "text/plain": [
       "65.17232575950983"
      ]
     },
     "execution_count": 14,
     "metadata": {},
     "output_type": "execute_result"
    }
   ],
   "source": [
    "#Calculate the percentage of students who passed math **and** reading (% Overall Passing)\n",
    "PassingBoth = PyCitySchool_df[(PyCitySchool_df[\"math_score\"] >= 70) & (PyCitySchool_df[\"reading_score\"] >= 70)][\"student_name\"].count()\n",
    "Percent_OverallPassing = PassingBoth/Total_Students*100\n",
    "Percent_OverallPassing"
   ]
  },
  {
   "cell_type": "code",
   "execution_count": 15,
   "metadata": {},
   "outputs": [
    {
     "data": {
      "text/html": [
       "<style  type=\"text/css\" >\n",
       "</style><table id=\"T_f278f240_eaf7_11ea_86b9_e45e37318def\" ><thead>    <tr>        <th class=\"blank level0\" ></th>        <th class=\"col_heading level0 col0\" >Total Schools</th>        <th class=\"col_heading level0 col1\" >Total Students</th>        <th class=\"col_heading level0 col2\" >Total Budget</th>        <th class=\"col_heading level0 col3\" >Average Math Score</th>        <th class=\"col_heading level0 col4\" >Average Reading Score</th>        <th class=\"col_heading level0 col5\" >% Passing Math</th>        <th class=\"col_heading level0 col6\" >% Passing Reading</th>        <th class=\"col_heading level0 col7\" >% Overall Passing</th>    </tr></thead><tbody>\n",
       "                <tr>\n",
       "                        <th id=\"T_f278f240_eaf7_11ea_86b9_e45e37318deflevel0_row0\" class=\"row_heading level0 row0\" >0</th>\n",
       "                        <td id=\"T_f278f240_eaf7_11ea_86b9_e45e37318defrow0_col0\" class=\"data row0 col0\" >15</td>\n",
       "                        <td id=\"T_f278f240_eaf7_11ea_86b9_e45e37318defrow0_col1\" class=\"data row0 col1\" >39,170</td>\n",
       "                        <td id=\"T_f278f240_eaf7_11ea_86b9_e45e37318defrow0_col2\" class=\"data row0 col2\" >$24,649,428.00</td>\n",
       "                        <td id=\"T_f278f240_eaf7_11ea_86b9_e45e37318defrow0_col3\" class=\"data row0 col3\" >79</td>\n",
       "                        <td id=\"T_f278f240_eaf7_11ea_86b9_e45e37318defrow0_col4\" class=\"data row0 col4\" >82</td>\n",
       "                        <td id=\"T_f278f240_eaf7_11ea_86b9_e45e37318defrow0_col5\" class=\"data row0 col5\" >75.0%</td>\n",
       "                        <td id=\"T_f278f240_eaf7_11ea_86b9_e45e37318defrow0_col6\" class=\"data row0 col6\" >85.8%</td>\n",
       "                        <td id=\"T_f278f240_eaf7_11ea_86b9_e45e37318defrow0_col7\" class=\"data row0 col7\" >65.2%</td>\n",
       "            </tr>\n",
       "    </tbody></table>"
      ],
      "text/plain": [
       "<pandas.io.formats.style.Styler at 0x21259121308>"
      ]
     },
     "execution_count": 15,
     "metadata": {},
     "output_type": "execute_result"
    }
   ],
   "source": [
    "#Create a dataframe to hold the above results\n",
    "SummaryDF = pd.DataFrame({\"Total Schools\":[Total_Schools],\n",
    "                          \"Total Students\":[Total_Students],\n",
    "                          \"Total Budget\":[Total_Budget],\n",
    "                          \"Average Math Score\":[Avg_MathScore],\n",
    "                          \"Average Reading Score\":[Avg_ReadingScore],\n",
    "                          \"% Passing Math\":[Percent_PassingMath/100],\n",
    "                          \"% Passing Reading\":[Percent_PassingReading/100],\n",
    "                          \"% Overall Passing\":[Percent_OverallPassing/100]})\n",
    "\n",
    "SummaryDF.style.format({\"Total Students\": \"{:,.0f}\",\n",
    "                        \"Total Budget\": \"${:,.2f}\",\n",
    "                        \"Average Math Score\": \"{:.0f}\",\n",
    "                        \"Average Reading Score\": \"{:.0f}\",\n",
    "                        \"% Passing Math\": \"{:.1%}\",\n",
    "                        \"% Passing Reading\": \"{:.1%}\",\n",
    "                        \"% Overall Passing\": \"{:.1%}\"}) "
   ]
  },
  {
   "cell_type": "markdown",
   "metadata": {},
   "source": [
    "## School Summary"
   ]
  },
  {
   "cell_type": "code",
   "execution_count": 16,
   "metadata": {},
   "outputs": [
    {
     "data": {
      "text/html": [
       "<div>\n",
       "<style scoped>\n",
       "    .dataframe tbody tr th:only-of-type {\n",
       "        vertical-align: middle;\n",
       "    }\n",
       "\n",
       "    .dataframe tbody tr th {\n",
       "        vertical-align: top;\n",
       "    }\n",
       "\n",
       "    .dataframe thead th {\n",
       "        text-align: right;\n",
       "    }\n",
       "</style>\n",
       "<table border=\"1\" class=\"dataframe\">\n",
       "  <thead>\n",
       "    <tr style=\"text-align: right;\">\n",
       "      <th></th>\n",
       "      <th>type</th>\n",
       "      <th>size</th>\n",
       "      <th>budget</th>\n",
       "    </tr>\n",
       "    <tr>\n",
       "      <th>school_name</th>\n",
       "      <th></th>\n",
       "      <th></th>\n",
       "      <th></th>\n",
       "    </tr>\n",
       "  </thead>\n",
       "  <tbody>\n",
       "    <tr>\n",
       "      <th>Huang High School</th>\n",
       "      <td>District</td>\n",
       "      <td>2917</td>\n",
       "      <td>1910635</td>\n",
       "    </tr>\n",
       "    <tr>\n",
       "      <th>Figueroa High School</th>\n",
       "      <td>District</td>\n",
       "      <td>2949</td>\n",
       "      <td>1884411</td>\n",
       "    </tr>\n",
       "    <tr>\n",
       "      <th>Shelton High School</th>\n",
       "      <td>Charter</td>\n",
       "      <td>1761</td>\n",
       "      <td>1056600</td>\n",
       "    </tr>\n",
       "    <tr>\n",
       "      <th>Hernandez High School</th>\n",
       "      <td>District</td>\n",
       "      <td>4635</td>\n",
       "      <td>3022020</td>\n",
       "    </tr>\n",
       "    <tr>\n",
       "      <th>Griffin High School</th>\n",
       "      <td>Charter</td>\n",
       "      <td>1468</td>\n",
       "      <td>917500</td>\n",
       "    </tr>\n",
       "    <tr>\n",
       "      <th>Wilson High School</th>\n",
       "      <td>Charter</td>\n",
       "      <td>2283</td>\n",
       "      <td>1319574</td>\n",
       "    </tr>\n",
       "    <tr>\n",
       "      <th>Cabrera High School</th>\n",
       "      <td>Charter</td>\n",
       "      <td>1858</td>\n",
       "      <td>1081356</td>\n",
       "    </tr>\n",
       "    <tr>\n",
       "      <th>Bailey High School</th>\n",
       "      <td>District</td>\n",
       "      <td>4976</td>\n",
       "      <td>3124928</td>\n",
       "    </tr>\n",
       "    <tr>\n",
       "      <th>Holden High School</th>\n",
       "      <td>Charter</td>\n",
       "      <td>427</td>\n",
       "      <td>248087</td>\n",
       "    </tr>\n",
       "    <tr>\n",
       "      <th>Pena High School</th>\n",
       "      <td>Charter</td>\n",
       "      <td>962</td>\n",
       "      <td>585858</td>\n",
       "    </tr>\n",
       "    <tr>\n",
       "      <th>Wright High School</th>\n",
       "      <td>Charter</td>\n",
       "      <td>1800</td>\n",
       "      <td>1049400</td>\n",
       "    </tr>\n",
       "    <tr>\n",
       "      <th>Rodriguez High School</th>\n",
       "      <td>District</td>\n",
       "      <td>3999</td>\n",
       "      <td>2547363</td>\n",
       "    </tr>\n",
       "    <tr>\n",
       "      <th>Johnson High School</th>\n",
       "      <td>District</td>\n",
       "      <td>4761</td>\n",
       "      <td>3094650</td>\n",
       "    </tr>\n",
       "    <tr>\n",
       "      <th>Ford High School</th>\n",
       "      <td>District</td>\n",
       "      <td>2739</td>\n",
       "      <td>1763916</td>\n",
       "    </tr>\n",
       "    <tr>\n",
       "      <th>Thomas High School</th>\n",
       "      <td>Charter</td>\n",
       "      <td>1635</td>\n",
       "      <td>1043130</td>\n",
       "    </tr>\n",
       "  </tbody>\n",
       "</table>\n",
       "</div>"
      ],
      "text/plain": [
       "                           type  size   budget\n",
       "school_name                                   \n",
       "Huang High School      District  2917  1910635\n",
       "Figueroa High School   District  2949  1884411\n",
       "Shelton High School     Charter  1761  1056600\n",
       "Hernandez High School  District  4635  3022020\n",
       "Griffin High School     Charter  1468   917500\n",
       "Wilson High School      Charter  2283  1319574\n",
       "Cabrera High School     Charter  1858  1081356\n",
       "Bailey High School     District  4976  3124928\n",
       "Holden High School      Charter   427   248087\n",
       "Pena High School        Charter   962   585858\n",
       "Wright High School      Charter  1800  1049400\n",
       "Rodriguez High School  District  3999  2547363\n",
       "Johnson High School    District  4761  3094650\n",
       "Ford High School       District  2739  1763916\n",
       "Thomas High School      Charter  1635  1043130"
      ]
     },
     "execution_count": 16,
     "metadata": {},
     "output_type": "execute_result"
    }
   ],
   "source": [
    "#Review school data, set column index to school name\n",
    "Schools = df1.set_index([\"school_name\"])\n",
    "Schoolsdf = Schools[[\"type\", \"size\", \"budget\"]]\n",
    "Schoolsdf "
   ]
  },
  {
   "cell_type": "code",
   "execution_count": 17,
   "metadata": {},
   "outputs": [
    {
     "data": {
      "text/plain": [
       "school_name\n",
       "Huang High School        District\n",
       "Figueroa High School     District\n",
       "Shelton High School       Charter\n",
       "Hernandez High School    District\n",
       "Griffin High School       Charter\n",
       "Wilson High School        Charter\n",
       "Cabrera High School       Charter\n",
       "Bailey High School       District\n",
       "Holden High School        Charter\n",
       "Pena High School          Charter\n",
       "Wright High School        Charter\n",
       "Rodriguez High School    District\n",
       "Johnson High School      District\n",
       "Ford High School         District\n",
       "Thomas High School        Charter\n",
       "Name: type, dtype: object"
      ]
     },
     "execution_count": 17,
     "metadata": {},
     "output_type": "execute_result"
    }
   ],
   "source": [
    "#Create df of school names/types\n",
    "Schoolsdf = Schools[\"type\"]\n",
    "Schoolsdf"
   ]
  },
  {
   "cell_type": "code",
   "execution_count": 18,
   "metadata": {},
   "outputs": [
    {
     "data": {
      "text/plain": [
       "school_name\n",
       "Huang High School        2917\n",
       "Figueroa High School     2949\n",
       "Shelton High School      1761\n",
       "Hernandez High School    4635\n",
       "Griffin High School      1468\n",
       "Wilson High School       2283\n",
       "Cabrera High School      1858\n",
       "Bailey High School       4976\n",
       "Holden High School        427\n",
       "Pena High School          962\n",
       "Wright High School       1800\n",
       "Rodriguez High School    3999\n",
       "Johnson High School      4761\n",
       "Ford High School         2739\n",
       "Thomas High School       1635\n",
       "Name: size, dtype: int64"
      ]
     },
     "execution_count": 18,
     "metadata": {},
     "output_type": "execute_result"
    }
   ],
   "source": [
    "#Calculate total student counts per school\n",
    "Students = Schools[\"size\"]\n",
    "Students"
   ]
  },
  {
   "cell_type": "code",
   "execution_count": 19,
   "metadata": {},
   "outputs": [
    {
     "data": {
      "text/plain": [
       "school_name\n",
       "Huang High School        1910635\n",
       "Figueroa High School     1884411\n",
       "Shelton High School      1056600\n",
       "Hernandez High School    3022020\n",
       "Griffin High School       917500\n",
       "Wilson High School       1319574\n",
       "Cabrera High School      1081356\n",
       "Bailey High School       3124928\n",
       "Holden High School        248087\n",
       "Pena High School          585858\n",
       "Wright High School       1049400\n",
       "Rodriguez High School    2547363\n",
       "Johnson High School      3094650\n",
       "Ford High School         1763916\n",
       "Thomas High School       1043130\n",
       "Name: budget, dtype: int64"
      ]
     },
     "execution_count": 19,
     "metadata": {},
     "output_type": "execute_result"
    }
   ],
   "source": [
    "#Calculate total budget per school\n",
    "Budget = Schools[\"budget\"]\n",
    "Budget"
   ]
  },
  {
   "cell_type": "code",
   "execution_count": 20,
   "metadata": {},
   "outputs": [
    {
     "data": {
      "text/plain": [
       "school_name\n",
       "Huang High School        655.0\n",
       "Figueroa High School     639.0\n",
       "Shelton High School      600.0\n",
       "Hernandez High School    652.0\n",
       "Griffin High School      625.0\n",
       "Wilson High School       578.0\n",
       "Cabrera High School      582.0\n",
       "Bailey High School       628.0\n",
       "Holden High School       581.0\n",
       "Pena High School         609.0\n",
       "Wright High School       583.0\n",
       "Rodriguez High School    637.0\n",
       "Johnson High School      650.0\n",
       "Ford High School         644.0\n",
       "Thomas High School       638.0\n",
       "dtype: float64"
      ]
     },
     "execution_count": 20,
     "metadata": {},
     "output_type": "execute_result"
    }
   ],
   "source": [
    "#Calculate school budget per student\n",
    "BudgetPerStudent = Budget/Students\n",
    "BudgetPerStudent"
   ]
  },
  {
   "cell_type": "code",
   "execution_count": 21,
   "metadata": {},
   "outputs": [
    {
     "data": {
      "text/plain": [
       "school_name\n",
       "Bailey High School       77.048432\n",
       "Cabrera High School      83.061895\n",
       "Figueroa High School     76.711767\n",
       "Ford High School         77.102592\n",
       "Griffin High School      83.351499\n",
       "Hernandez High School    77.289752\n",
       "Holden High School       83.803279\n",
       "Huang High School        76.629414\n",
       "Johnson High School      77.072464\n",
       "Pena High School         83.839917\n",
       "Rodriguez High School    76.842711\n",
       "Shelton High School      83.359455\n",
       "Thomas High School       83.418349\n",
       "Wilson High School       83.274201\n",
       "Wright High School       83.682222\n",
       "Name: math_score, dtype: float64"
      ]
     },
     "execution_count": 21,
     "metadata": {},
     "output_type": "execute_result"
    }
   ],
   "source": [
    "#Calculate average math score\n",
    "Avg_MathScore_perSchool = PyCitySchool_df.groupby([\"school_name\"]).mean()[\"math_score\"]\n",
    "Avg_MathScore_perSchool"
   ]
  },
  {
   "cell_type": "code",
   "execution_count": 22,
   "metadata": {},
   "outputs": [
    {
     "data": {
      "text/plain": [
       "school_name\n",
       "Bailey High School       66.680064\n",
       "Cabrera High School      94.133477\n",
       "Figueroa High School     65.988471\n",
       "Ford High School         68.309602\n",
       "Griffin High School      93.392371\n",
       "Hernandez High School    66.752967\n",
       "Holden High School       92.505855\n",
       "Huang High School        65.683922\n",
       "Johnson High School      66.057551\n",
       "Pena High School         94.594595\n",
       "Rodriguez High School    66.366592\n",
       "Shelton High School      93.867121\n",
       "Thomas High School       93.272171\n",
       "Wilson High School       93.867718\n",
       "Wright High School       93.333333\n",
       "dtype: float64"
      ]
     },
     "execution_count": 22,
     "metadata": {},
     "output_type": "execute_result"
    }
   ],
   "source": [
    "#Calculate % passing math\n",
    "PassingMath_df = PyCitySchool_df[(PyCitySchool_df[\"math_score\"]>=70)]\n",
    "PassingMath_PerSchool = PassingMath_df.groupby([\"school_name\"]).count()[\"student_name\"]\n",
    "PassingMath_PerSchool\n",
    "\n",
    "Percent_PassingMath = (PassingMath_PerSchool/Students*100)\n",
    "Percent_PassingMath"
   ]
  },
  {
   "cell_type": "code",
   "execution_count": 23,
   "metadata": {},
   "outputs": [
    {
     "data": {
      "text/plain": [
       "school_name\n",
       "Bailey High School       81.033963\n",
       "Cabrera High School      83.975780\n",
       "Figueroa High School     81.158020\n",
       "Ford High School         80.746258\n",
       "Griffin High School      83.816757\n",
       "Hernandez High School    80.934412\n",
       "Holden High School       83.814988\n",
       "Huang High School        81.182722\n",
       "Johnson High School      80.966394\n",
       "Pena High School         84.044699\n",
       "Rodriguez High School    80.744686\n",
       "Shelton High School      83.725724\n",
       "Thomas High School       83.848930\n",
       "Wilson High School       83.989488\n",
       "Wright High School       83.955000\n",
       "Name: reading_score, dtype: float64"
      ]
     },
     "execution_count": 23,
     "metadata": {},
     "output_type": "execute_result"
    }
   ],
   "source": [
    "#Calculate average reading score\n",
    "Avg_ReadingScore_perSchool = PyCitySchool_df.groupby([\"school_name\"]).mean()[\"reading_score\"]\n",
    "Avg_ReadingScore_perSchool"
   ]
  },
  {
   "cell_type": "code",
   "execution_count": 24,
   "metadata": {},
   "outputs": [
    {
     "data": {
      "text/plain": [
       "school_name\n",
       "Bailey High School       81.933280\n",
       "Cabrera High School      97.039828\n",
       "Figueroa High School     80.739234\n",
       "Ford High School         79.299014\n",
       "Griffin High School      97.138965\n",
       "Hernandez High School    80.862999\n",
       "Holden High School       96.252927\n",
       "Huang High School        81.316421\n",
       "Johnson High School      81.222432\n",
       "Pena High School         95.945946\n",
       "Rodriguez High School    80.220055\n",
       "Shelton High School      95.854628\n",
       "Thomas High School       97.308869\n",
       "Wilson High School       96.539641\n",
       "Wright High School       96.611111\n",
       "dtype: float64"
      ]
     },
     "execution_count": 24,
     "metadata": {},
     "output_type": "execute_result"
    }
   ],
   "source": [
    "#Calculate % passing reading\n",
    "PassingReading_df = PyCitySchool_df[(PyCitySchool_df[\"reading_score\"]>=70)]\n",
    "PassingReading_PerSchool = PassingReading_df.groupby([\"school_name\"]).count()[\"student_name\"]\n",
    "PassingReading_PerSchool\n",
    "\n",
    "Percent_PassingReading = (PassingReading_PerSchool/Students*100)\n",
    "Percent_PassingReading"
   ]
  },
  {
   "cell_type": "code",
   "execution_count": 25,
   "metadata": {},
   "outputs": [
    {
     "data": {
      "text/plain": [
       "school_name\n",
       "Bailey High School       54.642283\n",
       "Cabrera High School      91.334769\n",
       "Figueroa High School     53.204476\n",
       "Ford High School         54.289887\n",
       "Griffin High School      90.599455\n",
       "Hernandez High School    53.527508\n",
       "Holden High School       89.227166\n",
       "Huang High School        53.513884\n",
       "Johnson High School      53.539172\n",
       "Pena High School         90.540541\n",
       "Rodriguez High School    52.988247\n",
       "Shelton High School      89.892107\n",
       "Thomas High School       90.948012\n",
       "Wilson High School       90.582567\n",
       "Wright High School       90.333333\n",
       "dtype: float64"
      ]
     },
     "execution_count": 25,
     "metadata": {},
     "output_type": "execute_result"
    }
   ],
   "source": [
    "#Calculate % overall passing (math and reading)\n",
    "PassingBoth_df = PyCitySchool_df[(PyCitySchool_df[\"reading_score\"]>=70) & (PyCitySchool_df[\"math_score\"]>=70)]\n",
    "PassingBoth_PerSchool = PassingBoth_df.groupby([\"school_name\"]).count()[\"student_name\"]\n",
    "PassingBoth_PerSchool\n",
    "\n",
    "OverallPassingBoth_PerSchool = (PassingBoth_PerSchool/Students*100)\n",
    "OverallPassingBoth_PerSchool"
   ]
  },
  {
   "cell_type": "code",
   "execution_count": 26,
   "metadata": {
    "scrolled": true
   },
   "outputs": [
    {
     "data": {
      "text/html": [
       "<style  type=\"text/css\" >\n",
       "</style><table id=\"T_f295fc40_eaf7_11ea_bd0d_e45e37318def\" ><caption>School Summary</caption><thead>    <tr>        <th class=\"blank level0\" ></th>        <th class=\"col_heading level0 col0\" >School Type</th>        <th class=\"col_heading level0 col1\" >Total Students</th>        <th class=\"col_heading level0 col2\" >Total School Budget</th>        <th class=\"col_heading level0 col3\" >Budget Per Student</th>        <th class=\"col_heading level0 col4\" >Average Math Score</th>        <th class=\"col_heading level0 col5\" >Average Reading Score</th>        <th class=\"col_heading level0 col6\" >% Passing Math</th>        <th class=\"col_heading level0 col7\" >% Passing Reading</th>        <th class=\"col_heading level0 col8\" >% Overall Passing</th>    </tr></thead><tbody>\n",
       "                <tr>\n",
       "                        <th id=\"T_f295fc40_eaf7_11ea_bd0d_e45e37318deflevel0_row0\" class=\"row_heading level0 row0\" >Bailey High School</th>\n",
       "                        <td id=\"T_f295fc40_eaf7_11ea_bd0d_e45e37318defrow0_col0\" class=\"data row0 col0\" >District</td>\n",
       "                        <td id=\"T_f295fc40_eaf7_11ea_bd0d_e45e37318defrow0_col1\" class=\"data row0 col1\" >4,976</td>\n",
       "                        <td id=\"T_f295fc40_eaf7_11ea_bd0d_e45e37318defrow0_col2\" class=\"data row0 col2\" >$3,124,928.00</td>\n",
       "                        <td id=\"T_f295fc40_eaf7_11ea_bd0d_e45e37318defrow0_col3\" class=\"data row0 col3\" >$628.00</td>\n",
       "                        <td id=\"T_f295fc40_eaf7_11ea_bd0d_e45e37318defrow0_col4\" class=\"data row0 col4\" >77</td>\n",
       "                        <td id=\"T_f295fc40_eaf7_11ea_bd0d_e45e37318defrow0_col5\" class=\"data row0 col5\" >81</td>\n",
       "                        <td id=\"T_f295fc40_eaf7_11ea_bd0d_e45e37318defrow0_col6\" class=\"data row0 col6\" >66.68%</td>\n",
       "                        <td id=\"T_f295fc40_eaf7_11ea_bd0d_e45e37318defrow0_col7\" class=\"data row0 col7\" >81.93%</td>\n",
       "                        <td id=\"T_f295fc40_eaf7_11ea_bd0d_e45e37318defrow0_col8\" class=\"data row0 col8\" >54.64%</td>\n",
       "            </tr>\n",
       "            <tr>\n",
       "                        <th id=\"T_f295fc40_eaf7_11ea_bd0d_e45e37318deflevel0_row1\" class=\"row_heading level0 row1\" >Cabrera High School</th>\n",
       "                        <td id=\"T_f295fc40_eaf7_11ea_bd0d_e45e37318defrow1_col0\" class=\"data row1 col0\" >Charter</td>\n",
       "                        <td id=\"T_f295fc40_eaf7_11ea_bd0d_e45e37318defrow1_col1\" class=\"data row1 col1\" >1,858</td>\n",
       "                        <td id=\"T_f295fc40_eaf7_11ea_bd0d_e45e37318defrow1_col2\" class=\"data row1 col2\" >$1,081,356.00</td>\n",
       "                        <td id=\"T_f295fc40_eaf7_11ea_bd0d_e45e37318defrow1_col3\" class=\"data row1 col3\" >$582.00</td>\n",
       "                        <td id=\"T_f295fc40_eaf7_11ea_bd0d_e45e37318defrow1_col4\" class=\"data row1 col4\" >83</td>\n",
       "                        <td id=\"T_f295fc40_eaf7_11ea_bd0d_e45e37318defrow1_col5\" class=\"data row1 col5\" >84</td>\n",
       "                        <td id=\"T_f295fc40_eaf7_11ea_bd0d_e45e37318defrow1_col6\" class=\"data row1 col6\" >94.13%</td>\n",
       "                        <td id=\"T_f295fc40_eaf7_11ea_bd0d_e45e37318defrow1_col7\" class=\"data row1 col7\" >97.04%</td>\n",
       "                        <td id=\"T_f295fc40_eaf7_11ea_bd0d_e45e37318defrow1_col8\" class=\"data row1 col8\" >91.33%</td>\n",
       "            </tr>\n",
       "            <tr>\n",
       "                        <th id=\"T_f295fc40_eaf7_11ea_bd0d_e45e37318deflevel0_row2\" class=\"row_heading level0 row2\" >Figueroa High School</th>\n",
       "                        <td id=\"T_f295fc40_eaf7_11ea_bd0d_e45e37318defrow2_col0\" class=\"data row2 col0\" >District</td>\n",
       "                        <td id=\"T_f295fc40_eaf7_11ea_bd0d_e45e37318defrow2_col1\" class=\"data row2 col1\" >2,949</td>\n",
       "                        <td id=\"T_f295fc40_eaf7_11ea_bd0d_e45e37318defrow2_col2\" class=\"data row2 col2\" >$1,884,411.00</td>\n",
       "                        <td id=\"T_f295fc40_eaf7_11ea_bd0d_e45e37318defrow2_col3\" class=\"data row2 col3\" >$639.00</td>\n",
       "                        <td id=\"T_f295fc40_eaf7_11ea_bd0d_e45e37318defrow2_col4\" class=\"data row2 col4\" >77</td>\n",
       "                        <td id=\"T_f295fc40_eaf7_11ea_bd0d_e45e37318defrow2_col5\" class=\"data row2 col5\" >81</td>\n",
       "                        <td id=\"T_f295fc40_eaf7_11ea_bd0d_e45e37318defrow2_col6\" class=\"data row2 col6\" >65.99%</td>\n",
       "                        <td id=\"T_f295fc40_eaf7_11ea_bd0d_e45e37318defrow2_col7\" class=\"data row2 col7\" >80.74%</td>\n",
       "                        <td id=\"T_f295fc40_eaf7_11ea_bd0d_e45e37318defrow2_col8\" class=\"data row2 col8\" >53.20%</td>\n",
       "            </tr>\n",
       "            <tr>\n",
       "                        <th id=\"T_f295fc40_eaf7_11ea_bd0d_e45e37318deflevel0_row3\" class=\"row_heading level0 row3\" >Ford High School</th>\n",
       "                        <td id=\"T_f295fc40_eaf7_11ea_bd0d_e45e37318defrow3_col0\" class=\"data row3 col0\" >District</td>\n",
       "                        <td id=\"T_f295fc40_eaf7_11ea_bd0d_e45e37318defrow3_col1\" class=\"data row3 col1\" >2,739</td>\n",
       "                        <td id=\"T_f295fc40_eaf7_11ea_bd0d_e45e37318defrow3_col2\" class=\"data row3 col2\" >$1,763,916.00</td>\n",
       "                        <td id=\"T_f295fc40_eaf7_11ea_bd0d_e45e37318defrow3_col3\" class=\"data row3 col3\" >$644.00</td>\n",
       "                        <td id=\"T_f295fc40_eaf7_11ea_bd0d_e45e37318defrow3_col4\" class=\"data row3 col4\" >77</td>\n",
       "                        <td id=\"T_f295fc40_eaf7_11ea_bd0d_e45e37318defrow3_col5\" class=\"data row3 col5\" >81</td>\n",
       "                        <td id=\"T_f295fc40_eaf7_11ea_bd0d_e45e37318defrow3_col6\" class=\"data row3 col6\" >68.31%</td>\n",
       "                        <td id=\"T_f295fc40_eaf7_11ea_bd0d_e45e37318defrow3_col7\" class=\"data row3 col7\" >79.30%</td>\n",
       "                        <td id=\"T_f295fc40_eaf7_11ea_bd0d_e45e37318defrow3_col8\" class=\"data row3 col8\" >54.29%</td>\n",
       "            </tr>\n",
       "            <tr>\n",
       "                        <th id=\"T_f295fc40_eaf7_11ea_bd0d_e45e37318deflevel0_row4\" class=\"row_heading level0 row4\" >Griffin High School</th>\n",
       "                        <td id=\"T_f295fc40_eaf7_11ea_bd0d_e45e37318defrow4_col0\" class=\"data row4 col0\" >Charter</td>\n",
       "                        <td id=\"T_f295fc40_eaf7_11ea_bd0d_e45e37318defrow4_col1\" class=\"data row4 col1\" >1,468</td>\n",
       "                        <td id=\"T_f295fc40_eaf7_11ea_bd0d_e45e37318defrow4_col2\" class=\"data row4 col2\" >$917,500.00</td>\n",
       "                        <td id=\"T_f295fc40_eaf7_11ea_bd0d_e45e37318defrow4_col3\" class=\"data row4 col3\" >$625.00</td>\n",
       "                        <td id=\"T_f295fc40_eaf7_11ea_bd0d_e45e37318defrow4_col4\" class=\"data row4 col4\" >83</td>\n",
       "                        <td id=\"T_f295fc40_eaf7_11ea_bd0d_e45e37318defrow4_col5\" class=\"data row4 col5\" >84</td>\n",
       "                        <td id=\"T_f295fc40_eaf7_11ea_bd0d_e45e37318defrow4_col6\" class=\"data row4 col6\" >93.39%</td>\n",
       "                        <td id=\"T_f295fc40_eaf7_11ea_bd0d_e45e37318defrow4_col7\" class=\"data row4 col7\" >97.14%</td>\n",
       "                        <td id=\"T_f295fc40_eaf7_11ea_bd0d_e45e37318defrow4_col8\" class=\"data row4 col8\" >90.60%</td>\n",
       "            </tr>\n",
       "            <tr>\n",
       "                        <th id=\"T_f295fc40_eaf7_11ea_bd0d_e45e37318deflevel0_row5\" class=\"row_heading level0 row5\" >Hernandez High School</th>\n",
       "                        <td id=\"T_f295fc40_eaf7_11ea_bd0d_e45e37318defrow5_col0\" class=\"data row5 col0\" >District</td>\n",
       "                        <td id=\"T_f295fc40_eaf7_11ea_bd0d_e45e37318defrow5_col1\" class=\"data row5 col1\" >4,635</td>\n",
       "                        <td id=\"T_f295fc40_eaf7_11ea_bd0d_e45e37318defrow5_col2\" class=\"data row5 col2\" >$3,022,020.00</td>\n",
       "                        <td id=\"T_f295fc40_eaf7_11ea_bd0d_e45e37318defrow5_col3\" class=\"data row5 col3\" >$652.00</td>\n",
       "                        <td id=\"T_f295fc40_eaf7_11ea_bd0d_e45e37318defrow5_col4\" class=\"data row5 col4\" >77</td>\n",
       "                        <td id=\"T_f295fc40_eaf7_11ea_bd0d_e45e37318defrow5_col5\" class=\"data row5 col5\" >81</td>\n",
       "                        <td id=\"T_f295fc40_eaf7_11ea_bd0d_e45e37318defrow5_col6\" class=\"data row5 col6\" >66.75%</td>\n",
       "                        <td id=\"T_f295fc40_eaf7_11ea_bd0d_e45e37318defrow5_col7\" class=\"data row5 col7\" >80.86%</td>\n",
       "                        <td id=\"T_f295fc40_eaf7_11ea_bd0d_e45e37318defrow5_col8\" class=\"data row5 col8\" >53.53%</td>\n",
       "            </tr>\n",
       "            <tr>\n",
       "                        <th id=\"T_f295fc40_eaf7_11ea_bd0d_e45e37318deflevel0_row6\" class=\"row_heading level0 row6\" >Holden High School</th>\n",
       "                        <td id=\"T_f295fc40_eaf7_11ea_bd0d_e45e37318defrow6_col0\" class=\"data row6 col0\" >Charter</td>\n",
       "                        <td id=\"T_f295fc40_eaf7_11ea_bd0d_e45e37318defrow6_col1\" class=\"data row6 col1\" >427</td>\n",
       "                        <td id=\"T_f295fc40_eaf7_11ea_bd0d_e45e37318defrow6_col2\" class=\"data row6 col2\" >$248,087.00</td>\n",
       "                        <td id=\"T_f295fc40_eaf7_11ea_bd0d_e45e37318defrow6_col3\" class=\"data row6 col3\" >$581.00</td>\n",
       "                        <td id=\"T_f295fc40_eaf7_11ea_bd0d_e45e37318defrow6_col4\" class=\"data row6 col4\" >84</td>\n",
       "                        <td id=\"T_f295fc40_eaf7_11ea_bd0d_e45e37318defrow6_col5\" class=\"data row6 col5\" >84</td>\n",
       "                        <td id=\"T_f295fc40_eaf7_11ea_bd0d_e45e37318defrow6_col6\" class=\"data row6 col6\" >92.51%</td>\n",
       "                        <td id=\"T_f295fc40_eaf7_11ea_bd0d_e45e37318defrow6_col7\" class=\"data row6 col7\" >96.25%</td>\n",
       "                        <td id=\"T_f295fc40_eaf7_11ea_bd0d_e45e37318defrow6_col8\" class=\"data row6 col8\" >89.23%</td>\n",
       "            </tr>\n",
       "            <tr>\n",
       "                        <th id=\"T_f295fc40_eaf7_11ea_bd0d_e45e37318deflevel0_row7\" class=\"row_heading level0 row7\" >Huang High School</th>\n",
       "                        <td id=\"T_f295fc40_eaf7_11ea_bd0d_e45e37318defrow7_col0\" class=\"data row7 col0\" >District</td>\n",
       "                        <td id=\"T_f295fc40_eaf7_11ea_bd0d_e45e37318defrow7_col1\" class=\"data row7 col1\" >2,917</td>\n",
       "                        <td id=\"T_f295fc40_eaf7_11ea_bd0d_e45e37318defrow7_col2\" class=\"data row7 col2\" >$1,910,635.00</td>\n",
       "                        <td id=\"T_f295fc40_eaf7_11ea_bd0d_e45e37318defrow7_col3\" class=\"data row7 col3\" >$655.00</td>\n",
       "                        <td id=\"T_f295fc40_eaf7_11ea_bd0d_e45e37318defrow7_col4\" class=\"data row7 col4\" >77</td>\n",
       "                        <td id=\"T_f295fc40_eaf7_11ea_bd0d_e45e37318defrow7_col5\" class=\"data row7 col5\" >81</td>\n",
       "                        <td id=\"T_f295fc40_eaf7_11ea_bd0d_e45e37318defrow7_col6\" class=\"data row7 col6\" >65.68%</td>\n",
       "                        <td id=\"T_f295fc40_eaf7_11ea_bd0d_e45e37318defrow7_col7\" class=\"data row7 col7\" >81.32%</td>\n",
       "                        <td id=\"T_f295fc40_eaf7_11ea_bd0d_e45e37318defrow7_col8\" class=\"data row7 col8\" >53.51%</td>\n",
       "            </tr>\n",
       "            <tr>\n",
       "                        <th id=\"T_f295fc40_eaf7_11ea_bd0d_e45e37318deflevel0_row8\" class=\"row_heading level0 row8\" >Johnson High School</th>\n",
       "                        <td id=\"T_f295fc40_eaf7_11ea_bd0d_e45e37318defrow8_col0\" class=\"data row8 col0\" >District</td>\n",
       "                        <td id=\"T_f295fc40_eaf7_11ea_bd0d_e45e37318defrow8_col1\" class=\"data row8 col1\" >4,761</td>\n",
       "                        <td id=\"T_f295fc40_eaf7_11ea_bd0d_e45e37318defrow8_col2\" class=\"data row8 col2\" >$3,094,650.00</td>\n",
       "                        <td id=\"T_f295fc40_eaf7_11ea_bd0d_e45e37318defrow8_col3\" class=\"data row8 col3\" >$650.00</td>\n",
       "                        <td id=\"T_f295fc40_eaf7_11ea_bd0d_e45e37318defrow8_col4\" class=\"data row8 col4\" >77</td>\n",
       "                        <td id=\"T_f295fc40_eaf7_11ea_bd0d_e45e37318defrow8_col5\" class=\"data row8 col5\" >81</td>\n",
       "                        <td id=\"T_f295fc40_eaf7_11ea_bd0d_e45e37318defrow8_col6\" class=\"data row8 col6\" >66.06%</td>\n",
       "                        <td id=\"T_f295fc40_eaf7_11ea_bd0d_e45e37318defrow8_col7\" class=\"data row8 col7\" >81.22%</td>\n",
       "                        <td id=\"T_f295fc40_eaf7_11ea_bd0d_e45e37318defrow8_col8\" class=\"data row8 col8\" >53.54%</td>\n",
       "            </tr>\n",
       "            <tr>\n",
       "                        <th id=\"T_f295fc40_eaf7_11ea_bd0d_e45e37318deflevel0_row9\" class=\"row_heading level0 row9\" >Pena High School</th>\n",
       "                        <td id=\"T_f295fc40_eaf7_11ea_bd0d_e45e37318defrow9_col0\" class=\"data row9 col0\" >Charter</td>\n",
       "                        <td id=\"T_f295fc40_eaf7_11ea_bd0d_e45e37318defrow9_col1\" class=\"data row9 col1\" >962</td>\n",
       "                        <td id=\"T_f295fc40_eaf7_11ea_bd0d_e45e37318defrow9_col2\" class=\"data row9 col2\" >$585,858.00</td>\n",
       "                        <td id=\"T_f295fc40_eaf7_11ea_bd0d_e45e37318defrow9_col3\" class=\"data row9 col3\" >$609.00</td>\n",
       "                        <td id=\"T_f295fc40_eaf7_11ea_bd0d_e45e37318defrow9_col4\" class=\"data row9 col4\" >84</td>\n",
       "                        <td id=\"T_f295fc40_eaf7_11ea_bd0d_e45e37318defrow9_col5\" class=\"data row9 col5\" >84</td>\n",
       "                        <td id=\"T_f295fc40_eaf7_11ea_bd0d_e45e37318defrow9_col6\" class=\"data row9 col6\" >94.59%</td>\n",
       "                        <td id=\"T_f295fc40_eaf7_11ea_bd0d_e45e37318defrow9_col7\" class=\"data row9 col7\" >95.95%</td>\n",
       "                        <td id=\"T_f295fc40_eaf7_11ea_bd0d_e45e37318defrow9_col8\" class=\"data row9 col8\" >90.54%</td>\n",
       "            </tr>\n",
       "            <tr>\n",
       "                        <th id=\"T_f295fc40_eaf7_11ea_bd0d_e45e37318deflevel0_row10\" class=\"row_heading level0 row10\" >Rodriguez High School</th>\n",
       "                        <td id=\"T_f295fc40_eaf7_11ea_bd0d_e45e37318defrow10_col0\" class=\"data row10 col0\" >District</td>\n",
       "                        <td id=\"T_f295fc40_eaf7_11ea_bd0d_e45e37318defrow10_col1\" class=\"data row10 col1\" >3,999</td>\n",
       "                        <td id=\"T_f295fc40_eaf7_11ea_bd0d_e45e37318defrow10_col2\" class=\"data row10 col2\" >$2,547,363.00</td>\n",
       "                        <td id=\"T_f295fc40_eaf7_11ea_bd0d_e45e37318defrow10_col3\" class=\"data row10 col3\" >$637.00</td>\n",
       "                        <td id=\"T_f295fc40_eaf7_11ea_bd0d_e45e37318defrow10_col4\" class=\"data row10 col4\" >77</td>\n",
       "                        <td id=\"T_f295fc40_eaf7_11ea_bd0d_e45e37318defrow10_col5\" class=\"data row10 col5\" >81</td>\n",
       "                        <td id=\"T_f295fc40_eaf7_11ea_bd0d_e45e37318defrow10_col6\" class=\"data row10 col6\" >66.37%</td>\n",
       "                        <td id=\"T_f295fc40_eaf7_11ea_bd0d_e45e37318defrow10_col7\" class=\"data row10 col7\" >80.22%</td>\n",
       "                        <td id=\"T_f295fc40_eaf7_11ea_bd0d_e45e37318defrow10_col8\" class=\"data row10 col8\" >52.99%</td>\n",
       "            </tr>\n",
       "            <tr>\n",
       "                        <th id=\"T_f295fc40_eaf7_11ea_bd0d_e45e37318deflevel0_row11\" class=\"row_heading level0 row11\" >Shelton High School</th>\n",
       "                        <td id=\"T_f295fc40_eaf7_11ea_bd0d_e45e37318defrow11_col0\" class=\"data row11 col0\" >Charter</td>\n",
       "                        <td id=\"T_f295fc40_eaf7_11ea_bd0d_e45e37318defrow11_col1\" class=\"data row11 col1\" >1,761</td>\n",
       "                        <td id=\"T_f295fc40_eaf7_11ea_bd0d_e45e37318defrow11_col2\" class=\"data row11 col2\" >$1,056,600.00</td>\n",
       "                        <td id=\"T_f295fc40_eaf7_11ea_bd0d_e45e37318defrow11_col3\" class=\"data row11 col3\" >$600.00</td>\n",
       "                        <td id=\"T_f295fc40_eaf7_11ea_bd0d_e45e37318defrow11_col4\" class=\"data row11 col4\" >83</td>\n",
       "                        <td id=\"T_f295fc40_eaf7_11ea_bd0d_e45e37318defrow11_col5\" class=\"data row11 col5\" >84</td>\n",
       "                        <td id=\"T_f295fc40_eaf7_11ea_bd0d_e45e37318defrow11_col6\" class=\"data row11 col6\" >93.87%</td>\n",
       "                        <td id=\"T_f295fc40_eaf7_11ea_bd0d_e45e37318defrow11_col7\" class=\"data row11 col7\" >95.85%</td>\n",
       "                        <td id=\"T_f295fc40_eaf7_11ea_bd0d_e45e37318defrow11_col8\" class=\"data row11 col8\" >89.89%</td>\n",
       "            </tr>\n",
       "            <tr>\n",
       "                        <th id=\"T_f295fc40_eaf7_11ea_bd0d_e45e37318deflevel0_row12\" class=\"row_heading level0 row12\" >Thomas High School</th>\n",
       "                        <td id=\"T_f295fc40_eaf7_11ea_bd0d_e45e37318defrow12_col0\" class=\"data row12 col0\" >Charter</td>\n",
       "                        <td id=\"T_f295fc40_eaf7_11ea_bd0d_e45e37318defrow12_col1\" class=\"data row12 col1\" >1,635</td>\n",
       "                        <td id=\"T_f295fc40_eaf7_11ea_bd0d_e45e37318defrow12_col2\" class=\"data row12 col2\" >$1,043,130.00</td>\n",
       "                        <td id=\"T_f295fc40_eaf7_11ea_bd0d_e45e37318defrow12_col3\" class=\"data row12 col3\" >$638.00</td>\n",
       "                        <td id=\"T_f295fc40_eaf7_11ea_bd0d_e45e37318defrow12_col4\" class=\"data row12 col4\" >83</td>\n",
       "                        <td id=\"T_f295fc40_eaf7_11ea_bd0d_e45e37318defrow12_col5\" class=\"data row12 col5\" >84</td>\n",
       "                        <td id=\"T_f295fc40_eaf7_11ea_bd0d_e45e37318defrow12_col6\" class=\"data row12 col6\" >93.27%</td>\n",
       "                        <td id=\"T_f295fc40_eaf7_11ea_bd0d_e45e37318defrow12_col7\" class=\"data row12 col7\" >97.31%</td>\n",
       "                        <td id=\"T_f295fc40_eaf7_11ea_bd0d_e45e37318defrow12_col8\" class=\"data row12 col8\" >90.95%</td>\n",
       "            </tr>\n",
       "            <tr>\n",
       "                        <th id=\"T_f295fc40_eaf7_11ea_bd0d_e45e37318deflevel0_row13\" class=\"row_heading level0 row13\" >Wilson High School</th>\n",
       "                        <td id=\"T_f295fc40_eaf7_11ea_bd0d_e45e37318defrow13_col0\" class=\"data row13 col0\" >Charter</td>\n",
       "                        <td id=\"T_f295fc40_eaf7_11ea_bd0d_e45e37318defrow13_col1\" class=\"data row13 col1\" >2,283</td>\n",
       "                        <td id=\"T_f295fc40_eaf7_11ea_bd0d_e45e37318defrow13_col2\" class=\"data row13 col2\" >$1,319,574.00</td>\n",
       "                        <td id=\"T_f295fc40_eaf7_11ea_bd0d_e45e37318defrow13_col3\" class=\"data row13 col3\" >$578.00</td>\n",
       "                        <td id=\"T_f295fc40_eaf7_11ea_bd0d_e45e37318defrow13_col4\" class=\"data row13 col4\" >83</td>\n",
       "                        <td id=\"T_f295fc40_eaf7_11ea_bd0d_e45e37318defrow13_col5\" class=\"data row13 col5\" >84</td>\n",
       "                        <td id=\"T_f295fc40_eaf7_11ea_bd0d_e45e37318defrow13_col6\" class=\"data row13 col6\" >93.87%</td>\n",
       "                        <td id=\"T_f295fc40_eaf7_11ea_bd0d_e45e37318defrow13_col7\" class=\"data row13 col7\" >96.54%</td>\n",
       "                        <td id=\"T_f295fc40_eaf7_11ea_bd0d_e45e37318defrow13_col8\" class=\"data row13 col8\" >90.58%</td>\n",
       "            </tr>\n",
       "            <tr>\n",
       "                        <th id=\"T_f295fc40_eaf7_11ea_bd0d_e45e37318deflevel0_row14\" class=\"row_heading level0 row14\" >Wright High School</th>\n",
       "                        <td id=\"T_f295fc40_eaf7_11ea_bd0d_e45e37318defrow14_col0\" class=\"data row14 col0\" >Charter</td>\n",
       "                        <td id=\"T_f295fc40_eaf7_11ea_bd0d_e45e37318defrow14_col1\" class=\"data row14 col1\" >1,800</td>\n",
       "                        <td id=\"T_f295fc40_eaf7_11ea_bd0d_e45e37318defrow14_col2\" class=\"data row14 col2\" >$1,049,400.00</td>\n",
       "                        <td id=\"T_f295fc40_eaf7_11ea_bd0d_e45e37318defrow14_col3\" class=\"data row14 col3\" >$583.00</td>\n",
       "                        <td id=\"T_f295fc40_eaf7_11ea_bd0d_e45e37318defrow14_col4\" class=\"data row14 col4\" >84</td>\n",
       "                        <td id=\"T_f295fc40_eaf7_11ea_bd0d_e45e37318defrow14_col5\" class=\"data row14 col5\" >84</td>\n",
       "                        <td id=\"T_f295fc40_eaf7_11ea_bd0d_e45e37318defrow14_col6\" class=\"data row14 col6\" >93.33%</td>\n",
       "                        <td id=\"T_f295fc40_eaf7_11ea_bd0d_e45e37318defrow14_col7\" class=\"data row14 col7\" >96.61%</td>\n",
       "                        <td id=\"T_f295fc40_eaf7_11ea_bd0d_e45e37318defrow14_col8\" class=\"data row14 col8\" >90.33%</td>\n",
       "            </tr>\n",
       "    </tbody></table>"
      ],
      "text/plain": [
       "<pandas.io.formats.style.Styler at 0x2125a60cf48>"
      ]
     },
     "execution_count": 26,
     "metadata": {},
     "output_type": "execute_result"
    }
   ],
   "source": [
    "#Create an overview table that summarizes the above key metrics about each school\n",
    "#Create a dataframe to hold the above results\n",
    "District_OverviewDF = pd.DataFrame({\"School Type\":Schoolsdf,\n",
    "                                    \"Total Students\":Students,\n",
    "                                    \"Total School Budget\":Budget,\n",
    "                                    \"Budget Per Student\":BudgetPerStudent,\n",
    "                                     \"Average Math Score\":Avg_MathScore_perSchool,\n",
    "                                     \"Average Reading Score\":Avg_ReadingScore_perSchool,\n",
    "                                     \"% Passing Math\":(Percent_PassingMath),\n",
    "                                     \"% Passing Reading\":(Percent_PassingReading),\n",
    "                                     \"% Overall Passing\":(OverallPassingBoth_PerSchool)})\n",
    "\n",
    "District_OverviewDF[\"Total Students\"]=District_OverviewDF[\"Total Students\"].map(\"{:,.0f}\".format)\n",
    "District_OverviewDF[\"Total School Budget\"]=District_OverviewDF[\"Total School Budget\"].map(\"${:,.2f}\".format)\n",
    "District_OverviewDF[\"Budget Per Student\"]=District_OverviewDF[\"Budget Per Student\"].map(\"${:,.2f}\".format)\n",
    "District_OverviewDF[\"Average Math Score\"]=District_OverviewDF[\"Average Math Score\"].map(\"{:,.0f}\".format)\n",
    "District_OverviewDF[\"Average Reading Score\"]=District_OverviewDF[\"Average Reading Score\"].map(\"{:,.0f}\".format)\n",
    "District_OverviewDF[\"% Passing Math\"]=District_OverviewDF[\"% Passing Math\"].map(\"{:,.2f}%\".format)\n",
    "District_OverviewDF[\"% Passing Reading\"]=District_OverviewDF[\"% Passing Reading\"].map(\"{:,.2f}%\".format)\n",
    "District_OverviewDF[\"% Overall Passing\"]=District_OverviewDF[\"% Overall Passing\"].map(\"{:,.2f}%\".format)\n",
    "\n",
    "District_OverviewDF.style.set_caption(\"School Summary\")"
   ]
  },
  {
   "cell_type": "markdown",
   "metadata": {},
   "source": [
    "## Top Performing Schools (By % Overall Passing)"
   ]
  },
  {
   "cell_type": "code",
   "execution_count": 27,
   "metadata": {
    "scrolled": true
   },
   "outputs": [
    {
     "data": {
      "text/html": [
       "<style  type=\"text/css\" >\n",
       "</style><table id=\"T_f297a8cc_eaf7_11ea_8127_e45e37318def\" ><caption>Top Performing Schools</caption><thead>    <tr>        <th class=\"blank level0\" ></th>        <th class=\"col_heading level0 col0\" >School Type</th>        <th class=\"col_heading level0 col1\" >Total Students</th>        <th class=\"col_heading level0 col2\" >Total School Budget</th>        <th class=\"col_heading level0 col3\" >Budget Per Student</th>        <th class=\"col_heading level0 col4\" >Average Math Score</th>        <th class=\"col_heading level0 col5\" >Average Reading Score</th>        <th class=\"col_heading level0 col6\" >% Passing Math</th>        <th class=\"col_heading level0 col7\" >% Passing Reading</th>        <th class=\"col_heading level0 col8\" >% Overall Passing</th>    </tr></thead><tbody>\n",
       "                <tr>\n",
       "                        <th id=\"T_f297a8cc_eaf7_11ea_8127_e45e37318deflevel0_row0\" class=\"row_heading level0 row0\" >Cabrera High School</th>\n",
       "                        <td id=\"T_f297a8cc_eaf7_11ea_8127_e45e37318defrow0_col0\" class=\"data row0 col0\" >Charter</td>\n",
       "                        <td id=\"T_f297a8cc_eaf7_11ea_8127_e45e37318defrow0_col1\" class=\"data row0 col1\" >1,858</td>\n",
       "                        <td id=\"T_f297a8cc_eaf7_11ea_8127_e45e37318defrow0_col2\" class=\"data row0 col2\" >$1,081,356.00</td>\n",
       "                        <td id=\"T_f297a8cc_eaf7_11ea_8127_e45e37318defrow0_col3\" class=\"data row0 col3\" >$582.00</td>\n",
       "                        <td id=\"T_f297a8cc_eaf7_11ea_8127_e45e37318defrow0_col4\" class=\"data row0 col4\" >83</td>\n",
       "                        <td id=\"T_f297a8cc_eaf7_11ea_8127_e45e37318defrow0_col5\" class=\"data row0 col5\" >84</td>\n",
       "                        <td id=\"T_f297a8cc_eaf7_11ea_8127_e45e37318defrow0_col6\" class=\"data row0 col6\" >94.13%</td>\n",
       "                        <td id=\"T_f297a8cc_eaf7_11ea_8127_e45e37318defrow0_col7\" class=\"data row0 col7\" >97.04%</td>\n",
       "                        <td id=\"T_f297a8cc_eaf7_11ea_8127_e45e37318defrow0_col8\" class=\"data row0 col8\" >91.33%</td>\n",
       "            </tr>\n",
       "            <tr>\n",
       "                        <th id=\"T_f297a8cc_eaf7_11ea_8127_e45e37318deflevel0_row1\" class=\"row_heading level0 row1\" >Thomas High School</th>\n",
       "                        <td id=\"T_f297a8cc_eaf7_11ea_8127_e45e37318defrow1_col0\" class=\"data row1 col0\" >Charter</td>\n",
       "                        <td id=\"T_f297a8cc_eaf7_11ea_8127_e45e37318defrow1_col1\" class=\"data row1 col1\" >1,635</td>\n",
       "                        <td id=\"T_f297a8cc_eaf7_11ea_8127_e45e37318defrow1_col2\" class=\"data row1 col2\" >$1,043,130.00</td>\n",
       "                        <td id=\"T_f297a8cc_eaf7_11ea_8127_e45e37318defrow1_col3\" class=\"data row1 col3\" >$638.00</td>\n",
       "                        <td id=\"T_f297a8cc_eaf7_11ea_8127_e45e37318defrow1_col4\" class=\"data row1 col4\" >83</td>\n",
       "                        <td id=\"T_f297a8cc_eaf7_11ea_8127_e45e37318defrow1_col5\" class=\"data row1 col5\" >84</td>\n",
       "                        <td id=\"T_f297a8cc_eaf7_11ea_8127_e45e37318defrow1_col6\" class=\"data row1 col6\" >93.27%</td>\n",
       "                        <td id=\"T_f297a8cc_eaf7_11ea_8127_e45e37318defrow1_col7\" class=\"data row1 col7\" >97.31%</td>\n",
       "                        <td id=\"T_f297a8cc_eaf7_11ea_8127_e45e37318defrow1_col8\" class=\"data row1 col8\" >90.95%</td>\n",
       "            </tr>\n",
       "            <tr>\n",
       "                        <th id=\"T_f297a8cc_eaf7_11ea_8127_e45e37318deflevel0_row2\" class=\"row_heading level0 row2\" >Griffin High School</th>\n",
       "                        <td id=\"T_f297a8cc_eaf7_11ea_8127_e45e37318defrow2_col0\" class=\"data row2 col0\" >Charter</td>\n",
       "                        <td id=\"T_f297a8cc_eaf7_11ea_8127_e45e37318defrow2_col1\" class=\"data row2 col1\" >1,468</td>\n",
       "                        <td id=\"T_f297a8cc_eaf7_11ea_8127_e45e37318defrow2_col2\" class=\"data row2 col2\" >$917,500.00</td>\n",
       "                        <td id=\"T_f297a8cc_eaf7_11ea_8127_e45e37318defrow2_col3\" class=\"data row2 col3\" >$625.00</td>\n",
       "                        <td id=\"T_f297a8cc_eaf7_11ea_8127_e45e37318defrow2_col4\" class=\"data row2 col4\" >83</td>\n",
       "                        <td id=\"T_f297a8cc_eaf7_11ea_8127_e45e37318defrow2_col5\" class=\"data row2 col5\" >84</td>\n",
       "                        <td id=\"T_f297a8cc_eaf7_11ea_8127_e45e37318defrow2_col6\" class=\"data row2 col6\" >93.39%</td>\n",
       "                        <td id=\"T_f297a8cc_eaf7_11ea_8127_e45e37318defrow2_col7\" class=\"data row2 col7\" >97.14%</td>\n",
       "                        <td id=\"T_f297a8cc_eaf7_11ea_8127_e45e37318defrow2_col8\" class=\"data row2 col8\" >90.60%</td>\n",
       "            </tr>\n",
       "            <tr>\n",
       "                        <th id=\"T_f297a8cc_eaf7_11ea_8127_e45e37318deflevel0_row3\" class=\"row_heading level0 row3\" >Wilson High School</th>\n",
       "                        <td id=\"T_f297a8cc_eaf7_11ea_8127_e45e37318defrow3_col0\" class=\"data row3 col0\" >Charter</td>\n",
       "                        <td id=\"T_f297a8cc_eaf7_11ea_8127_e45e37318defrow3_col1\" class=\"data row3 col1\" >2,283</td>\n",
       "                        <td id=\"T_f297a8cc_eaf7_11ea_8127_e45e37318defrow3_col2\" class=\"data row3 col2\" >$1,319,574.00</td>\n",
       "                        <td id=\"T_f297a8cc_eaf7_11ea_8127_e45e37318defrow3_col3\" class=\"data row3 col3\" >$578.00</td>\n",
       "                        <td id=\"T_f297a8cc_eaf7_11ea_8127_e45e37318defrow3_col4\" class=\"data row3 col4\" >83</td>\n",
       "                        <td id=\"T_f297a8cc_eaf7_11ea_8127_e45e37318defrow3_col5\" class=\"data row3 col5\" >84</td>\n",
       "                        <td id=\"T_f297a8cc_eaf7_11ea_8127_e45e37318defrow3_col6\" class=\"data row3 col6\" >93.87%</td>\n",
       "                        <td id=\"T_f297a8cc_eaf7_11ea_8127_e45e37318defrow3_col7\" class=\"data row3 col7\" >96.54%</td>\n",
       "                        <td id=\"T_f297a8cc_eaf7_11ea_8127_e45e37318defrow3_col8\" class=\"data row3 col8\" >90.58%</td>\n",
       "            </tr>\n",
       "            <tr>\n",
       "                        <th id=\"T_f297a8cc_eaf7_11ea_8127_e45e37318deflevel0_row4\" class=\"row_heading level0 row4\" >Pena High School</th>\n",
       "                        <td id=\"T_f297a8cc_eaf7_11ea_8127_e45e37318defrow4_col0\" class=\"data row4 col0\" >Charter</td>\n",
       "                        <td id=\"T_f297a8cc_eaf7_11ea_8127_e45e37318defrow4_col1\" class=\"data row4 col1\" >962</td>\n",
       "                        <td id=\"T_f297a8cc_eaf7_11ea_8127_e45e37318defrow4_col2\" class=\"data row4 col2\" >$585,858.00</td>\n",
       "                        <td id=\"T_f297a8cc_eaf7_11ea_8127_e45e37318defrow4_col3\" class=\"data row4 col3\" >$609.00</td>\n",
       "                        <td id=\"T_f297a8cc_eaf7_11ea_8127_e45e37318defrow4_col4\" class=\"data row4 col4\" >84</td>\n",
       "                        <td id=\"T_f297a8cc_eaf7_11ea_8127_e45e37318defrow4_col5\" class=\"data row4 col5\" >84</td>\n",
       "                        <td id=\"T_f297a8cc_eaf7_11ea_8127_e45e37318defrow4_col6\" class=\"data row4 col6\" >94.59%</td>\n",
       "                        <td id=\"T_f297a8cc_eaf7_11ea_8127_e45e37318defrow4_col7\" class=\"data row4 col7\" >95.95%</td>\n",
       "                        <td id=\"T_f297a8cc_eaf7_11ea_8127_e45e37318defrow4_col8\" class=\"data row4 col8\" >90.54%</td>\n",
       "            </tr>\n",
       "    </tbody></table>"
      ],
      "text/plain": [
       "<pandas.io.formats.style.Styler at 0x2125a5f7a48>"
      ]
     },
     "execution_count": 27,
     "metadata": {},
     "output_type": "execute_result"
    }
   ],
   "source": [
    "#Sort and display the top five performing schools by % overall passing.\n",
    "Top5_Performing = District_OverviewDF.sort_values([\"% Overall Passing\"], ascending = False)\n",
    "Top5_Performing.head().style.set_caption(\"Top Performing Schools\")"
   ]
  },
  {
   "cell_type": "markdown",
   "metadata": {},
   "source": [
    "## Bottom Performing Schools (By % Overall Passing)"
   ]
  },
  {
   "cell_type": "markdown",
   "metadata": {},
   "source": [
    "* Sort and display the five worst-performing schools by % overall passing."
   ]
  },
  {
   "cell_type": "code",
   "execution_count": 28,
   "metadata": {},
   "outputs": [
    {
     "data": {
      "text/html": [
       "<style  type=\"text/css\" >\n",
       "</style><table id=\"T_f2992e68_eaf7_11ea_94bf_e45e37318def\" ><caption>Bottom Performing Schools</caption><thead>    <tr>        <th class=\"blank level0\" ></th>        <th class=\"col_heading level0 col0\" >School Type</th>        <th class=\"col_heading level0 col1\" >Total Students</th>        <th class=\"col_heading level0 col2\" >Total School Budget</th>        <th class=\"col_heading level0 col3\" >Budget Per Student</th>        <th class=\"col_heading level0 col4\" >Average Math Score</th>        <th class=\"col_heading level0 col5\" >Average Reading Score</th>        <th class=\"col_heading level0 col6\" >% Passing Math</th>        <th class=\"col_heading level0 col7\" >% Passing Reading</th>        <th class=\"col_heading level0 col8\" >% Overall Passing</th>    </tr></thead><tbody>\n",
       "                <tr>\n",
       "                        <th id=\"T_f2992e68_eaf7_11ea_94bf_e45e37318deflevel0_row0\" class=\"row_heading level0 row0\" >Johnson High School</th>\n",
       "                        <td id=\"T_f2992e68_eaf7_11ea_94bf_e45e37318defrow0_col0\" class=\"data row0 col0\" >District</td>\n",
       "                        <td id=\"T_f2992e68_eaf7_11ea_94bf_e45e37318defrow0_col1\" class=\"data row0 col1\" >4,761</td>\n",
       "                        <td id=\"T_f2992e68_eaf7_11ea_94bf_e45e37318defrow0_col2\" class=\"data row0 col2\" >$3,094,650.00</td>\n",
       "                        <td id=\"T_f2992e68_eaf7_11ea_94bf_e45e37318defrow0_col3\" class=\"data row0 col3\" >$650.00</td>\n",
       "                        <td id=\"T_f2992e68_eaf7_11ea_94bf_e45e37318defrow0_col4\" class=\"data row0 col4\" >77</td>\n",
       "                        <td id=\"T_f2992e68_eaf7_11ea_94bf_e45e37318defrow0_col5\" class=\"data row0 col5\" >81</td>\n",
       "                        <td id=\"T_f2992e68_eaf7_11ea_94bf_e45e37318defrow0_col6\" class=\"data row0 col6\" >66.06%</td>\n",
       "                        <td id=\"T_f2992e68_eaf7_11ea_94bf_e45e37318defrow0_col7\" class=\"data row0 col7\" >81.22%</td>\n",
       "                        <td id=\"T_f2992e68_eaf7_11ea_94bf_e45e37318defrow0_col8\" class=\"data row0 col8\" >53.54%</td>\n",
       "            </tr>\n",
       "            <tr>\n",
       "                        <th id=\"T_f2992e68_eaf7_11ea_94bf_e45e37318deflevel0_row1\" class=\"row_heading level0 row1\" >Hernandez High School</th>\n",
       "                        <td id=\"T_f2992e68_eaf7_11ea_94bf_e45e37318defrow1_col0\" class=\"data row1 col0\" >District</td>\n",
       "                        <td id=\"T_f2992e68_eaf7_11ea_94bf_e45e37318defrow1_col1\" class=\"data row1 col1\" >4,635</td>\n",
       "                        <td id=\"T_f2992e68_eaf7_11ea_94bf_e45e37318defrow1_col2\" class=\"data row1 col2\" >$3,022,020.00</td>\n",
       "                        <td id=\"T_f2992e68_eaf7_11ea_94bf_e45e37318defrow1_col3\" class=\"data row1 col3\" >$652.00</td>\n",
       "                        <td id=\"T_f2992e68_eaf7_11ea_94bf_e45e37318defrow1_col4\" class=\"data row1 col4\" >77</td>\n",
       "                        <td id=\"T_f2992e68_eaf7_11ea_94bf_e45e37318defrow1_col5\" class=\"data row1 col5\" >81</td>\n",
       "                        <td id=\"T_f2992e68_eaf7_11ea_94bf_e45e37318defrow1_col6\" class=\"data row1 col6\" >66.75%</td>\n",
       "                        <td id=\"T_f2992e68_eaf7_11ea_94bf_e45e37318defrow1_col7\" class=\"data row1 col7\" >80.86%</td>\n",
       "                        <td id=\"T_f2992e68_eaf7_11ea_94bf_e45e37318defrow1_col8\" class=\"data row1 col8\" >53.53%</td>\n",
       "            </tr>\n",
       "            <tr>\n",
       "                        <th id=\"T_f2992e68_eaf7_11ea_94bf_e45e37318deflevel0_row2\" class=\"row_heading level0 row2\" >Huang High School</th>\n",
       "                        <td id=\"T_f2992e68_eaf7_11ea_94bf_e45e37318defrow2_col0\" class=\"data row2 col0\" >District</td>\n",
       "                        <td id=\"T_f2992e68_eaf7_11ea_94bf_e45e37318defrow2_col1\" class=\"data row2 col1\" >2,917</td>\n",
       "                        <td id=\"T_f2992e68_eaf7_11ea_94bf_e45e37318defrow2_col2\" class=\"data row2 col2\" >$1,910,635.00</td>\n",
       "                        <td id=\"T_f2992e68_eaf7_11ea_94bf_e45e37318defrow2_col3\" class=\"data row2 col3\" >$655.00</td>\n",
       "                        <td id=\"T_f2992e68_eaf7_11ea_94bf_e45e37318defrow2_col4\" class=\"data row2 col4\" >77</td>\n",
       "                        <td id=\"T_f2992e68_eaf7_11ea_94bf_e45e37318defrow2_col5\" class=\"data row2 col5\" >81</td>\n",
       "                        <td id=\"T_f2992e68_eaf7_11ea_94bf_e45e37318defrow2_col6\" class=\"data row2 col6\" >65.68%</td>\n",
       "                        <td id=\"T_f2992e68_eaf7_11ea_94bf_e45e37318defrow2_col7\" class=\"data row2 col7\" >81.32%</td>\n",
       "                        <td id=\"T_f2992e68_eaf7_11ea_94bf_e45e37318defrow2_col8\" class=\"data row2 col8\" >53.51%</td>\n",
       "            </tr>\n",
       "            <tr>\n",
       "                        <th id=\"T_f2992e68_eaf7_11ea_94bf_e45e37318deflevel0_row3\" class=\"row_heading level0 row3\" >Figueroa High School</th>\n",
       "                        <td id=\"T_f2992e68_eaf7_11ea_94bf_e45e37318defrow3_col0\" class=\"data row3 col0\" >District</td>\n",
       "                        <td id=\"T_f2992e68_eaf7_11ea_94bf_e45e37318defrow3_col1\" class=\"data row3 col1\" >2,949</td>\n",
       "                        <td id=\"T_f2992e68_eaf7_11ea_94bf_e45e37318defrow3_col2\" class=\"data row3 col2\" >$1,884,411.00</td>\n",
       "                        <td id=\"T_f2992e68_eaf7_11ea_94bf_e45e37318defrow3_col3\" class=\"data row3 col3\" >$639.00</td>\n",
       "                        <td id=\"T_f2992e68_eaf7_11ea_94bf_e45e37318defrow3_col4\" class=\"data row3 col4\" >77</td>\n",
       "                        <td id=\"T_f2992e68_eaf7_11ea_94bf_e45e37318defrow3_col5\" class=\"data row3 col5\" >81</td>\n",
       "                        <td id=\"T_f2992e68_eaf7_11ea_94bf_e45e37318defrow3_col6\" class=\"data row3 col6\" >65.99%</td>\n",
       "                        <td id=\"T_f2992e68_eaf7_11ea_94bf_e45e37318defrow3_col7\" class=\"data row3 col7\" >80.74%</td>\n",
       "                        <td id=\"T_f2992e68_eaf7_11ea_94bf_e45e37318defrow3_col8\" class=\"data row3 col8\" >53.20%</td>\n",
       "            </tr>\n",
       "            <tr>\n",
       "                        <th id=\"T_f2992e68_eaf7_11ea_94bf_e45e37318deflevel0_row4\" class=\"row_heading level0 row4\" >Rodriguez High School</th>\n",
       "                        <td id=\"T_f2992e68_eaf7_11ea_94bf_e45e37318defrow4_col0\" class=\"data row4 col0\" >District</td>\n",
       "                        <td id=\"T_f2992e68_eaf7_11ea_94bf_e45e37318defrow4_col1\" class=\"data row4 col1\" >3,999</td>\n",
       "                        <td id=\"T_f2992e68_eaf7_11ea_94bf_e45e37318defrow4_col2\" class=\"data row4 col2\" >$2,547,363.00</td>\n",
       "                        <td id=\"T_f2992e68_eaf7_11ea_94bf_e45e37318defrow4_col3\" class=\"data row4 col3\" >$637.00</td>\n",
       "                        <td id=\"T_f2992e68_eaf7_11ea_94bf_e45e37318defrow4_col4\" class=\"data row4 col4\" >77</td>\n",
       "                        <td id=\"T_f2992e68_eaf7_11ea_94bf_e45e37318defrow4_col5\" class=\"data row4 col5\" >81</td>\n",
       "                        <td id=\"T_f2992e68_eaf7_11ea_94bf_e45e37318defrow4_col6\" class=\"data row4 col6\" >66.37%</td>\n",
       "                        <td id=\"T_f2992e68_eaf7_11ea_94bf_e45e37318defrow4_col7\" class=\"data row4 col7\" >80.22%</td>\n",
       "                        <td id=\"T_f2992e68_eaf7_11ea_94bf_e45e37318defrow4_col8\" class=\"data row4 col8\" >52.99%</td>\n",
       "            </tr>\n",
       "    </tbody></table>"
      ],
      "text/plain": [
       "<pandas.io.formats.style.Styler at 0x2125a5701c8>"
      ]
     },
     "execution_count": 28,
     "metadata": {},
     "output_type": "execute_result"
    }
   ],
   "source": [
    "#Sort and display the  bottom five performing schools by % overall passing.\n",
    "Bottom5_Performing = District_OverviewDF.sort_values([\"% Overall Passing\"], ascending = False)\n",
    "Bottom5_Performing.tail().style.set_caption(\"Bottom Performing Schools\")"
   ]
  },
  {
   "cell_type": "markdown",
   "metadata": {},
   "source": [
    "## Math Scores by Grade"
   ]
  },
  {
   "cell_type": "code",
   "execution_count": null,
   "metadata": {},
   "outputs": [],
   "source": []
  },
  {
   "cell_type": "code",
   "execution_count": null,
   "metadata": {},
   "outputs": [],
   "source": []
  },
  {
   "cell_type": "markdown",
   "metadata": {},
   "source": [
    "## Reading Score by Grade "
   ]
  },
  {
   "cell_type": "markdown",
   "metadata": {},
   "source": [
    "* Perform the same operations as above for reading scores"
   ]
  },
  {
   "cell_type": "code",
   "execution_count": null,
   "metadata": {},
   "outputs": [],
   "source": []
  },
  {
   "cell_type": "markdown",
   "metadata": {},
   "source": [
    "## Scores by School Spending"
   ]
  },
  {
   "cell_type": "markdown",
   "metadata": {},
   "source": [
    "* Create a table that breaks down school performances based on average Spending Ranges (Per Student). Use 4 reasonable bins to group school spending. Include in the table each of the following:\n",
    "  * Average Math Score\n",
    "  * Average Reading Score\n",
    "  * % Passing Math\n",
    "  * % Passing Reading\n",
    "  * Overall Passing Rate (Average of the above two)"
   ]
  },
  {
   "cell_type": "code",
   "execution_count": null,
   "metadata": {},
   "outputs": [],
   "source": []
  },
  {
   "cell_type": "markdown",
   "metadata": {},
   "source": [
    "## Scores by School Size"
   ]
  },
  {
   "cell_type": "markdown",
   "metadata": {},
   "source": [
    "* Perform the same operations as above, based on school size."
   ]
  },
  {
   "cell_type": "code",
   "execution_count": null,
   "metadata": {
    "scrolled": true
   },
   "outputs": [],
   "source": []
  },
  {
   "cell_type": "markdown",
   "metadata": {},
   "source": [
    "## Scores by School Type"
   ]
  },
  {
   "cell_type": "markdown",
   "metadata": {},
   "source": [
    "* Perform the same operations as above, based on school type"
   ]
  },
  {
   "cell_type": "code",
   "execution_count": null,
   "metadata": {},
   "outputs": [],
   "source": []
  },
  {
   "cell_type": "code",
   "execution_count": null,
   "metadata": {},
   "outputs": [],
   "source": []
  }
 ],
 "metadata": {
  "anaconda-cloud": {},
  "kernel_info": {
   "name": "python3"
  },
  "kernelspec": {
   "display_name": "Python 3",
   "language": "python",
   "name": "python3"
  },
  "language_info": {
   "codemirror_mode": {
    "name": "ipython",
    "version": 3
   },
   "file_extension": ".py",
   "mimetype": "text/x-python",
   "name": "python",
   "nbconvert_exporter": "python",
   "pygments_lexer": "ipython3",
   "version": "3.7.6"
  },
  "latex_envs": {
   "LaTeX_envs_menu_present": true,
   "autoclose": false,
   "autocomplete": true,
   "bibliofile": "biblio.bib",
   "cite_by": "apalike",
   "current_citInitial": 1,
   "eqLabelWithNumbers": true,
   "eqNumInitial": 1,
   "hotkeys": {
    "equation": "Ctrl-E",
    "itemize": "Ctrl-I"
   },
   "labels_anchors": false,
   "latex_user_defs": false,
   "report_style_numbering": false,
   "user_envs_cfg": false
  },
  "nteract": {
   "version": "0.8.4"
  }
 },
 "nbformat": 4,
 "nbformat_minor": 4
}
